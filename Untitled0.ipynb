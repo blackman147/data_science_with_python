{
  "nbformat": 4,
  "nbformat_minor": 0,
  "metadata": {
    "colab": {
      "name": "Untitled0.ipynb",
      "provenance": [],
      "authorship_tag": "ABX9TyOjhGvfpH58ORBDqAGAump/",
      "include_colab_link": true
    },
    "kernelspec": {
      "name": "python3",
      "display_name": "Python 3"
    },
    "language_info": {
      "name": "python"
    }
  },
  "cells": [
    {
      "cell_type": "markdown",
      "metadata": {
        "id": "view-in-github",
        "colab_type": "text"
      },
      "source": [
        "<a href=\"https://colab.research.google.com/github/blackman147/data_science_with_python/blob/main/Untitled0.ipynb\" target=\"_parent\"><img src=\"https://colab.research.google.com/assets/colab-badge.svg\" alt=\"Open In Colab\"/></a>"
      ]
    },
    {
      "cell_type": "markdown",
      "metadata": {
        "id": "ZFUEjC_ilPm1"
      },
      "source": [
        "import dependencies"
      ]
    },
    {
      "cell_type": "code",
      "metadata": {
        "id": "izpmJHvdlImA"
      },
      "source": [
        "import tensorflow as tf\n",
        "import numpy as np\n",
        "import logging\n",
        "\n",
        "logger = tf.get_logger()\n",
        "logger.setLevel(logging.ERROR)"
      ],
      "execution_count": 18,
      "outputs": []
    },
    {
      "cell_type": "markdown",
      "metadata": {
        "id": "YNzgSN56mvUr"
      },
      "source": [
        "Pass data to variables and interpret"
      ]
    },
    {
      "cell_type": "code",
      "metadata": {
        "colab": {
          "base_uri": "https://localhost:8080/"
        },
        "id": "ZdfYRzZ6l-uW",
        "outputId": "dd59372f-d5c1-4261-8c4e-0ce81fddc3be"
      },
      "source": [
        "celsius_vals = np.array([-40, -10,  0,  8, 15, 22,  38],  dtype=float)\n",
        "fahrenheit_vals = np.array([-40,  14, 32, 46, 59, 72, 100],  dtype=float)\n",
        "\n",
        "for index, value in enumerate (celsius_vals):\n",
        "  print('{} celsius is equal to {} fahrenheit'. format(value, fahrenheit_vals[index]))"
      ],
      "execution_count": 19,
      "outputs": [
        {
          "output_type": "stream",
          "name": "stdout",
          "text": [
            "-40.0 celsius is equal to -40.0 fahrenheit\n",
            "-10.0 celsius is equal to 14.0 fahrenheit\n",
            "0.0 celsius is equal to 32.0 fahrenheit\n",
            "8.0 celsius is equal to 46.0 fahrenheit\n",
            "15.0 celsius is equal to 59.0 fahrenheit\n",
            "22.0 celsius is equal to 72.0 fahrenheit\n",
            "38.0 celsius is equal to 100.0 fahrenheit\n"
          ]
        }
      ]
    },
    {
      "cell_type": "markdown",
      "metadata": {
        "id": "EJ2W21sCtSK7"
      },
      "source": [
        "Constructing the model"
      ]
    },
    {
      "cell_type": "code",
      "metadata": {
        "id": "LA1zxTHRtRbw"
      },
      "source": [
        "#the dense layer\n",
        "layer_0 = tf.keras.layers.Dense(units = 1, input_shape = [1])\n",
        "\n",
        "# sequential layer \n",
        "model = tf.keras.Sequential([layer_0])\n",
        "\n",
        "# compile the model\n",
        "\n",
        "model.compile(loss = 'mean_squared_error',\n",
        "              optimizer = tf.keras.optimizers.Adam(0.1))"
      ],
      "execution_count": 20,
      "outputs": []
    },
    {
      "cell_type": "markdown",
      "metadata": {
        "id": "b9J0ef2Exu6M"
      },
      "source": [
        "Training the model"
      ]
    },
    {
      "cell_type": "code",
      "metadata": {
        "colab": {
          "base_uri": "https://localhost:8080/"
        },
        "id": "7OAgjnNwuMk_",
        "outputId": "9ce19ea4-dcfe-4392-aa9f-0889feb10696"
      },
      "source": [
        "trained_model = model.fit(celsius_vals, fahrenheit_vals, epochs = 500, verbose =False )\n",
        "print(\"Finished training the model\")"
      ],
      "execution_count": 21,
      "outputs": [
        {
          "output_type": "stream",
          "name": "stdout",
          "text": [
            "Finished training the model\n"
          ]
        }
      ]
    },
    {
      "cell_type": "markdown",
      "metadata": {
        "id": "HfvEAQqbRE9E"
      },
      "source": [
        "visualize the degree of the loss"
      ]
    },
    {
      "cell_type": "code",
      "metadata": {
        "colab": {
          "base_uri": "https://localhost:8080/",
          "height": 296
        },
        "id": "YX2XRRpBQzR6",
        "outputId": "aaddac16-51f0-4f1e-fc2b-b1c77944532d"
      },
      "source": [
        "import matplotlib.pyplot as plt\n",
        "plt.xlabel('Epoch Number')\n",
        "plt.ylabel(\"Loss Magnitude\")\n",
        "plt.plot(trained_model.history['loss'])"
      ],
      "execution_count": 22,
      "outputs": [
        {
          "output_type": "execute_result",
          "data": {
            "text/plain": [
              "[<matplotlib.lines.Line2D at 0x7f9f8bdbd1d0>]"
            ]
          },
          "metadata": {},
          "execution_count": 22
        },
        {
          "output_type": "display_data",
          "data": {
            "image/png": "[encoded data removed]",
            "text/plain": [
              "<Figure size 432x288 with 1 Axes>"
            ]
          },
          "metadata": {
            "needs_background": "light"
          }
        }
      ]
    },
    {
      "cell_type": "markdown",
      "metadata": {
        "id": "KRw-z9l-XLYL"
      },
      "source": [
        "predicting values with the model"
      ]
    },
    {
      "cell_type": "code",
      "metadata": {
        "colab": {
          "base_uri": "https://localhost:8080/"
        },
        "id": "bA5SNtRqXE7y",
        "outputId": "111e4cff-d63b-4ea6-e095-02da083b62e8"
      },
      "source": [
        "print(model.predict([100.0]))"
      ],
      "execution_count": 23,
      "outputs": [
        {
          "output_type": "stream",
          "name": "stdout",
          "text": [
            "[[211.30853]]\n"
          ]
        }
      ]
    }
  ]
}