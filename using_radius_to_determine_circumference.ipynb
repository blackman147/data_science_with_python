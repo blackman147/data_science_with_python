{
  "nbformat": 4,
  "nbformat_minor": 0,
  "metadata": {
    "colab": {
      "name": "using_radius_to_determine_circumference.ipynb",
      "provenance": [],
      "authorship_tag": "ABX9TyO996w0ut8PIWBYHmTizJjB",
      "include_colab_link": true
    },
    "kernelspec": {
      "name": "python3",
      "display_name": "Python 3"
    },
    "language_info": {
      "name": "python"
    }
  },
  "cells": [
    {
      "cell_type": "markdown",
      "metadata": {
        "id": "view-in-github",
        "colab_type": "text"
      },
      "source": [
        "<a href=\"https://colab.research.google.com/github/blackman147/data_science_with_python/blob/main/using_radius_to_determine_circumference.ipynb\" target=\"_parent\"><img src=\"https://colab.research.google.com/assets/colab-badge.svg\" alt=\"Open In Colab\"/></a>"
      ]
    },
    {
      "cell_type": "code",
      "metadata": {
        "id": "tqIk6UuZb-eM"
      },
      "source": [
        "import tensorflow as tf\n",
        "import numpy as np\n",
        "import logging\n",
        "\n",
        "logger = tf.get_logger()\n",
        "logger.setLevel(logging.ERROR)"
      ],
      "execution_count": 52,
      "outputs": []
    },
    {
      "cell_type": "markdown",
      "metadata": {
        "id": "aH9NOJGEcbo-"
      },
      "source": [
        "passing data to variables and interpreting"
      ]
    },
    {
      "cell_type": "code",
      "metadata": {
        "colab": {
          "base_uri": "https://localhost:8080/"
        },
        "id": "6Ju9LRW3ciQn",
        "outputId": "207c974d-d095-4245-ab46-63726ea2f8f1"
      },
      "source": [
        "radius_vals = np.array([2, 4, 6, 8, 10, 12, 14, 16, 18, 20, 22, 24, 26, 28, 30, 32, 34, 36, 38, 40, 42, 44], dtype=float)\n",
        "circumference_vals = np.array([12.5, 25.1, 37.6, 50.2, 62.8, 75.3, 87.9, 100.5, 113.0, 125.6, 138.2, 150.7, 163.3, 175.9, 188.4, 201.0, 213.6, 226.1, 238.7, 251.3, 263.8, 276.4 ], dtype=float)\n",
        "print('{} radius is equal to {} circumference'. format(value, circumference_vals[index]))"
      ],
      "execution_count": 53,
      "outputs": [
        {
          "output_type": "stream",
          "name": "stdout",
          "text": [
            "24.0 radius is equal to 150.7 circumference\n"
          ]
        }
      ]
    },
    {
      "cell_type": "markdown",
      "metadata": {
        "id": "7Yutxzhsev1Y"
      },
      "source": [
        "Constructing the model"
      ]
    },
    {
      "cell_type": "code",
      "metadata": {
        "id": "uEO2APrve4H4"
      },
      "source": [
        "#the dense layer\n",
        "layer_0 = tf.keras.layers.Dense(units = 1, input_shape = [1])\n",
        "\n",
        "# sequential layer \n",
        "model = tf.keras.Sequential([layer_0])\n",
        "\n",
        "# compile the model\n",
        "\n",
        "model.compile(loss = 'mean_squared_error',\n",
        "              optimizer = tf.keras.optimizers.Adam(0.1))"
      ],
      "execution_count": 54,
      "outputs": []
    },
    {
      "cell_type": "markdown",
      "metadata": {
        "id": "vJMURphRfANK"
      },
      "source": [
        "Traning the model"
      ]
    },
    {
      "cell_type": "code",
      "metadata": {
        "colab": {
          "base_uri": "https://localhost:8080/"
        },
        "id": "nsaBQ_i_fCDt",
        "outputId": "01308d27-a719-4895-bbf3-7d70f59c226f"
      },
      "source": [
        "trained_model = model.fit(radius_vals, circumference_vals, epochs = 2000, verbose =False )\n",
        "print(\"Finished training the model\")"
      ],
      "execution_count": 55,
      "outputs": [
        {
          "output_type": "stream",
          "name": "stdout",
          "text": [
            "Finished training the model\n"
          ]
        }
      ]
    },
    {
      "cell_type": "markdown",
      "metadata": {
        "id": "TqKGd-sbf-Z-"
      },
      "source": [
        "visualizing the loss"
      ]
    },
    {
      "cell_type": "code",
      "metadata": {
        "colab": {
          "base_uri": "https://localhost:8080/",
          "height": 296
        },
        "id": "g6GVTZSmf99b",
        "outputId": "7d0ecc7c-2184-46b2-a62d-f9894b20d33c"
      },
      "source": [
        "import matplotlib.pyplot as plt\n",
        "plt.xlabel('Epoch Number')\n",
        "plt.ylabel(\"Loss Magnitude\")\n",
        "plt.plot(trained_model.history['loss'])"
      ],
      "execution_count": 56,
      "outputs": [
        {
          "output_type": "execute_result",
          "data": {
            "text/plain": [
              "[<matplotlib.lines.Line2D at 0x7f8962e53550>]"
            ]
          },
          "metadata": {},
          "execution_count": 56
        },
        {
          "output_type": "display_data",
          "data": {
            "image/png": "[encoded data removed]",
            "text/plain": [
              "<Figure size 432x288 with 1 Axes>"
            ]
          },
          "metadata": {
            "needs_background": "light"
          }
        }
      ]
    },
    {
      "cell_type": "code",
      "metadata": {
        "colab": {
          "base_uri": "https://localhost:8080/"
        },
        "id": "O1RyrwhIgJc4",
        "outputId": "f8821ae7-2084-4928-eee0-a37b1e1cdb08"
      },
      "source": [
        "print(model.predict([1, 3, 5]))"
      ],
      "execution_count": 57,
      "outputs": [
        {
          "output_type": "stream",
          "name": "stdout",
          "text": [
            "[[ 6.3550563]\n",
            " [18.91202  ]\n",
            " [31.46898  ]]\n"
          ]
        }
      ]
    }
  ]
}